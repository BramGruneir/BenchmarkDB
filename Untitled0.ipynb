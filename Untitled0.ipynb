{
 "metadata": {
  "name": "",
  "signature": "sha256:8a6f2557920c37c2bd2592202c1ed47b61732d4d8517a5c4762a1fc59882f394"
 },
 "nbformat": 3,
 "nbformat_minor": 0,
 "worksheets": []
}